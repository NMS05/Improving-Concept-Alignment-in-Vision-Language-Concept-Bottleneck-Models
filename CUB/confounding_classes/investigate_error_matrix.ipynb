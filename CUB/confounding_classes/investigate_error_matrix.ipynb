{
 "cells": [
  {
   "cell_type": "code",
   "execution_count": 7,
   "metadata": {},
   "outputs": [],
   "source": [
    "import numpy as np\n",
    "from tqdm import tqdm"
   ]
  },
  {
   "cell_type": "markdown",
   "metadata": {},
   "source": [
    "### Load the error matrix and class names"
   ]
  },
  {
   "cell_type": "code",
   "execution_count": 8,
   "metadata": {},
   "outputs": [
    {
     "name": "stdout",
     "output_type": "stream",
     "text": [
      "(200, 200)\n",
      "['Black_footed_Albatross', 'Laysan_Albatross', 'Sooty_Albatross', 'Groove_billed_Ani', 'Crested_Auklet', 'Least_Auklet', 'Parakeet_Auklet', 'Rhinoceros_Auklet', 'Brewer_Blackbird', 'Red_winged_Blackbird', 'Rusty_Blackbird', 'Yellow_headed_Blackbird', 'Bobolink', 'Indigo_Bunting', 'Lazuli_Bunting', 'Painted_Bunting', 'Cardinal', 'Spotted_Catbird', 'Gray_Catbird', 'Yellow_breasted_Chat', 'Eastern_Towhee', 'Chuck_will_Widow', 'Brandt_Cormorant', 'Red_faced_Cormorant', 'Pelagic_Cormorant', 'Bronzed_Cowbird', 'Shiny_Cowbird', 'Brown_Creeper', 'American_Crow', 'Fish_Crow', 'Black_billed_Cuckoo', 'Mangrove_Cuckoo', 'Yellow_billed_Cuckoo', 'Gray_crowned_Rosy_Finch', 'Purple_Finch', 'Northern_Flicker', 'Acadian_Flycatcher', 'Great_Crested_Flycatcher', 'Least_Flycatcher', 'Olive_sided_Flycatcher', 'Scissor_tailed_Flycatcher', 'Vermilion_Flycatcher', 'Yellow_bellied_Flycatcher', 'Frigatebird', 'Northern_Fulmar', 'Gadwall', 'American_Goldfinch', 'European_Goldfinch', 'Boat_tailed_Grackle', 'Eared_Grebe', 'Horned_Grebe', 'Pied_billed_Grebe', 'Western_Grebe', 'Blue_Grosbeak', 'Evening_Grosbeak', 'Pine_Grosbeak', 'Rose_breasted_Grosbeak', 'Pigeon_Guillemot', 'California_Gull', 'Glaucous_winged_Gull', 'Heermann_Gull', 'Herring_Gull', 'Ivory_Gull', 'Ring_billed_Gull', 'Slaty_backed_Gull', 'Western_Gull', 'Anna_Hummingbird', 'Ruby_throated_Hummingbird', 'Rufous_Hummingbird', 'Green_Violetear', 'Long_tailed_Jaeger', 'Pomarine_Jaeger', 'Blue_Jay', 'Florida_Jay', 'Green_Jay', 'Dark_eyed_Junco', 'Tropical_Kingbird', 'Gray_Kingbird', 'Belted_Kingfisher', 'Green_Kingfisher', 'Pied_Kingfisher', 'Ringed_Kingfisher', 'White_breasted_Kingfisher', 'Red_legged_Kittiwake', 'Horned_Lark', 'Pacific_Loon', 'Mallard', 'Western_Meadowlark', 'Hooded_Merganser', 'Red_breasted_Merganser', 'Mockingbird', 'Nighthawk', 'Clark_Nutcracker', 'White_breasted_Nuthatch', 'Baltimore_Oriole', 'Hooded_Oriole', 'Orchard_Oriole', 'Scott_Oriole', 'Ovenbird', 'Brown_Pelican', 'White_Pelican', 'Western_Wood_Pewee', 'Sayornis', 'American_Pipit', 'Whip_poor_Will', 'Horned_Puffin', 'Common_Raven', 'White_necked_Raven', 'American_Redstart', 'Geococcyx', 'Loggerhead_Shrike', 'Great_Grey_Shrike', 'Baird_Sparrow', 'Black_throated_Sparrow', 'Brewer_Sparrow', 'Chipping_Sparrow', 'Clay_colored_Sparrow', 'House_Sparrow', 'Field_Sparrow', 'Fox_Sparrow', 'Grasshopper_Sparrow', 'Harris_Sparrow', 'Henslow_Sparrow', 'Le_Conte_Sparrow', 'Lincoln_Sparrow', 'Nelson_Sharp_tailed_Sparrow', 'Savannah_Sparrow', 'Seaside_Sparrow', 'Song_Sparrow', 'Tree_Sparrow', 'Vesper_Sparrow', 'White_crowned_Sparrow', 'White_throated_Sparrow', 'Cape_Glossy_Starling', 'Bank_Swallow', 'Barn_Swallow', 'Cliff_Swallow', 'Tree_Swallow', 'Scarlet_Tanager', 'Summer_Tanager', 'Artic_Tern', 'Black_Tern', 'Caspian_Tern', 'Common_Tern', 'Elegant_Tern', 'Forsters_Tern', 'Least_Tern', 'Green_tailed_Towhee', 'Brown_Thrasher', 'Sage_Thrasher', 'Black_capped_Vireo', 'Blue_headed_Vireo', 'Philadelphia_Vireo', 'Red_eyed_Vireo', 'Warbling_Vireo', 'White_eyed_Vireo', 'Yellow_throated_Vireo', 'Bay_breasted_Warbler', 'Black_and_white_Warbler', 'Black_throated_Blue_Warbler', 'Blue_winged_Warbler', 'Canada_Warbler', 'Cape_May_Warbler', 'Cerulean_Warbler', 'Chestnut_sided_Warbler', 'Golden_winged_Warbler', 'Hooded_Warbler', 'Kentucky_Warbler', 'Magnolia_Warbler', 'Mourning_Warbler', 'Myrtle_Warbler', 'Nashville_Warbler', 'Orange_crowned_Warbler', 'Palm_Warbler', 'Pine_Warbler', 'Prairie_Warbler', 'Prothonotary_Warbler', 'Swainson_Warbler', 'Tennessee_Warbler', 'Wilson_Warbler', 'Worm_eating_Warbler', 'Yellow_Warbler', 'Northern_Waterthrush', 'Louisiana_Waterthrush', 'Bohemian_Waxwing', 'Cedar_Waxwing', 'American_Three_toed_Woodpecker', 'Pileated_Woodpecker', 'Red_bellied_Woodpecker', 'Red_cockaded_Woodpecker', 'Red_headed_Woodpecker', 'Downy_Woodpecker', 'Bewick_Wren', 'Cactus_Wren', 'Carolina_Wren', 'House_Wren', 'Marsh_Wren', 'Rock_Wren', 'Winter_Wren', 'Common_Yellowthroat']\n"
     ]
    }
   ],
   "source": [
    "err_mat = np.load(\"error_matrix.npy\")\n",
    "err_mat = err_mat.astype('int8')\n",
    "print(err_mat.shape)\n",
    "\n",
    "classes = open(\"CUB_200_2011/class_names.txt\").readlines()\n",
    "class_names = []\n",
    "for i in classes: class_names.append(i.strip().split(\".\")[-1])\n",
    "print(class_names)"
   ]
  },
  {
   "cell_type": "markdown",
   "metadata": {},
   "source": [
    "### Test sample distribution"
   ]
  },
  {
   "cell_type": "code",
   "execution_count": 11,
   "metadata": {},
   "outputs": [
    {
     "name": "stdout",
     "output_type": "stream",
     "text": [
      "5790\n"
     ]
    },
    {
     "name": "stderr",
     "output_type": "stream",
     "text": [
      "100%|██████████| 5790/5790 [00:41<00:00, 141.10it/s]"
     ]
    },
    {
     "name": "stdout",
     "output_type": "stream",
     "text": [
      "{'0': 30, '1': 30, '2': 28, '3': 30, '4': 14, '5': 11, '6': 23, '7': 18, '8': 28, '9': 30, '10': 30, '11': 26, '12': 30, '13': 30, '14': 28, '15': 28, '16': 27, '17': 15, '18': 29, '19': 29, '20': 30, '21': 26, '22': 29, '23': 22, '24': 30, '25': 30, '26': 30, '27': 29, '28': 30, '29': 30, '30': 30, '31': 23, '32': 29, '33': 29, '34': 30, '35': 30, '36': 29, '37': 30, '38': 29, '39': 30, '40': 30, '41': 30, '42': 29, '43': 30, '44': 30, '45': 30, '46': 30, '47': 30, '48': 30, '49': 30, '50': 30, '51': 30, '52': 30, '53': 30, '54': 30, '55': 30, '56': 30, '57': 28, '58': 30, '59': 29, '60': 30, '61': 30, '62': 29, '63': 30, '64': 20, '65': 30, '66': 30, '67': 30, '68': 30, '69': 30, '70': 30, '71': 30, '72': 30, '73': 30, '74': 27, '75': 30, '76': 30, '77': 29, '78': 30, '79': 30, '80': 30, '81': 30, '82': 30, '83': 23, '84': 30, '85': 30, '86': 29, '87': 30, '88': 30, '89': 30, '90': 30, '91': 30, '92': 30, '93': 30, '94': 30, '95': 30, '96': 29, '97': 30, '98': 30, '99': 30, '100': 20, '101': 30, '102': 30, '103': 30, '104': 19, '105': 30, '106': 30, '107': 29, '108': 30, '109': 30, '110': 30, '111': 30, '112': 20, '113': 30, '114': 29, '115': 30, '116': 29, '117': 30, '118': 29, '119': 30, '120': 30, '121': 30, '122': 30, '123': 29, '124': 29, '125': 30, '126': 30, '127': 30, '128': 30, '129': 30, '130': 30, '131': 30, '132': 30, '133': 30, '134': 30, '135': 30, '136': 30, '137': 30, '138': 30, '139': 30, '140': 29, '141': 30, '142': 30, '143': 30, '144': 30, '145': 30, '146': 30, '147': 30, '148': 29, '149': 30, '150': 21, '151': 30, '152': 29, '153': 30, '154': 30, '155': 30, '156': 29, '157': 30, '158': 30, '159': 29, '160': 30, '161': 30, '162': 30, '163': 30, '164': 30, '165': 29, '166': 30, '167': 29, '168': 29, '169': 30, '170': 30, '171': 30, '172': 30, '173': 30, '174': 30, '175': 30, '176': 30, '177': 26, '178': 29, '179': 30, '180': 29, '181': 30, '182': 30, '183': 30, '184': 30, '185': 30, '186': 20, '187': 30, '188': 30, '189': 29, '190': 30, '191': 30, '192': 30, '193': 30, '194': 30, '195': 30, '196': 30, '197': 30, '198': 30, '199': 30}\n"
     ]
    },
    {
     "name": "stderr",
     "output_type": "stream",
     "text": [
      "\n"
     ]
    }
   ],
   "source": [
    "from data.cub_data import Processed_CUB_Dataset\n",
    "\n",
    "test_dataset = Processed_CUB_Dataset(split=\"test\")\n",
    "print(len(test_dataset))\n",
    "\n",
    "test_samples_per_class = {}\n",
    "\n",
    "for i in tqdm(range(len(test_dataset))):\n",
    "    _, cls_label = test_dataset[i]\n",
    "\n",
    "    if str(cls_label) not in test_samples_per_class:\n",
    "        test_samples_per_class[str(cls_label)] = 0\n",
    "        test_samples_per_class[str(cls_label)] += 1\n",
    "    else:\n",
    "        test_samples_per_class[str(cls_label)] += 1\n",
    "\n",
    "print(test_samples_per_class)"
   ]
  },
  {
   "cell_type": "markdown",
   "metadata": {},
   "source": [
    "### Error Analysis"
   ]
  },
  {
   "cell_type": "code",
   "execution_count": 31,
   "metadata": {},
   "outputs": [
    {
     "name": "stdout",
     "output_type": "stream",
     "text": [
      "Class Name: Black_footed_Albatross           Error: 9     Accuracy: 70.0\n",
      "Class Name: Laysan_Albatross                 Error: 3     Accuracy: 90.0\n",
      "Class Name: Sooty_Albatross                  Error: 0     Accuracy: 100.0\n",
      "Class Name: Groove_billed_Ani                Error: 2     Accuracy: 93.33\n",
      "Class Name: Crested_Auklet                   Error: 1     Accuracy: 92.86\n",
      "Class Name: Least_Auklet                     Error: 1     Accuracy: 90.91\n",
      "Class Name: Parakeet_Auklet                  Error: 2     Accuracy: 91.3\n",
      "Class Name: Rhinoceros_Auklet                Error: 2     Accuracy: 88.89\n",
      "Class Name: Brewer_Blackbird                 Error: 4     Accuracy: 85.71\n",
      "Class Name: Red_winged_Blackbird             Error: 3     Accuracy: 90.0\n",
      "Class Name: Rusty_Blackbird                  Error: 15    Accuracy: 50.0\n",
      "Class Name: Yellow_headed_Blackbird          Error: 0     Accuracy: 100.0\n",
      "Class Name: Bobolink                         Error: 2     Accuracy: 93.33\n",
      "Class Name: Indigo_Bunting                   Error: 3     Accuracy: 90.0\n",
      "Class Name: Lazuli_Bunting                   Error: 2     Accuracy: 92.86\n",
      "Class Name: Painted_Bunting                  Error: 2     Accuracy: 92.86\n",
      "Class Name: Cardinal                         Error: 2     Accuracy: 92.59\n",
      "Class Name: Spotted_Catbird                  Error: 1     Accuracy: 93.33\n",
      "Class Name: Gray_Catbird                     Error: 1     Accuracy: 96.55\n",
      "Class Name: Yellow_breasted_Chat             Error: 2     Accuracy: 93.1\n",
      "Class Name: Eastern_Towhee                   Error: 3     Accuracy: 90.0\n",
      "Class Name: Chuck_will_Widow                 Error: 12    Accuracy: 53.85\n",
      "Class Name: Brandt_Cormorant                 Error: 6     Accuracy: 79.31\n",
      "Class Name: Red_faced_Cormorant              Error: 1     Accuracy: 95.45\n",
      "Class Name: Pelagic_Cormorant                Error: 22    Accuracy: 26.67\n",
      "Class Name: Bronzed_Cowbird                  Error: 9     Accuracy: 70.0\n",
      "Class Name: Shiny_Cowbird                    Error: 17    Accuracy: 43.33\n",
      "Class Name: Brown_Creeper                    Error: 2     Accuracy: 93.1\n",
      "Class Name: American_Crow                    Error: 25    Accuracy: 16.67\n",
      "Class Name: Fish_Crow                        Error: 14    Accuracy: 53.33\n",
      "Class Name: Black_billed_Cuckoo              Error: 5     Accuracy: 83.33\n",
      "Class Name: Mangrove_Cuckoo                  Error: 7     Accuracy: 69.57\n",
      "Class Name: Yellow_billed_Cuckoo             Error: 9     Accuracy: 68.97\n",
      "Class Name: Gray_crowned_Rosy_Finch          Error: 2     Accuracy: 93.1\n",
      "Class Name: Purple_Finch                     Error: 3     Accuracy: 90.0\n",
      "Class Name: Northern_Flicker                 Error: 0     Accuracy: 100.0\n",
      "Class Name: Acadian_Flycatcher               Error: 17    Accuracy: 41.38\n",
      "Class Name: Great_Crested_Flycatcher         Error: 7     Accuracy: 76.67\n",
      "Class Name: Least_Flycatcher                 Error: 14    Accuracy: 51.72\n",
      "Class Name: Olive_sided_Flycatcher           Error: 8     Accuracy: 73.33\n",
      "Class Name: Scissor_tailed_Flycatcher        Error: 2     Accuracy: 93.33\n",
      "Class Name: Vermilion_Flycatcher             Error: 4     Accuracy: 86.67\n",
      "Class Name: Yellow_bellied_Flycatcher        Error: 10    Accuracy: 65.52\n",
      "Class Name: Frigatebird                      Error: 0     Accuracy: 100.0\n",
      "Class Name: Northern_Fulmar                  Error: 9     Accuracy: 70.0\n",
      "Class Name: Gadwall                          Error: 2     Accuracy: 93.33\n",
      "Class Name: American_Goldfinch               Error: 1     Accuracy: 96.67\n",
      "Class Name: European_Goldfinch               Error: 0     Accuracy: 100.0\n",
      "Class Name: Boat_tailed_Grackle              Error: 9     Accuracy: 70.0\n",
      "Class Name: Eared_Grebe                      Error: 5     Accuracy: 83.33\n",
      "Class Name: Horned_Grebe                     Error: 13    Accuracy: 56.67\n",
      "Class Name: Pied_billed_Grebe                Error: 0     Accuracy: 100.0\n",
      "Class Name: Western_Grebe                    Error: 1     Accuracy: 96.67\n",
      "Class Name: Blue_Grosbeak                    Error: 1     Accuracy: 96.67\n",
      "Class Name: Evening_Grosbeak                 Error: 2     Accuracy: 93.33\n",
      "Class Name: Pine_Grosbeak                    Error: 1     Accuracy: 96.67\n",
      "Class Name: Rose_breasted_Grosbeak           Error: 2     Accuracy: 93.33\n",
      "Class Name: Pigeon_Guillemot                 Error: 5     Accuracy: 82.14\n",
      "Class Name: California_Gull                  Error: 25    Accuracy: 16.67\n",
      "Class Name: Glaucous_winged_Gull             Error: 11    Accuracy: 62.07\n",
      "Class Name: Heermann_Gull                    Error: 0     Accuracy: 100.0\n",
      "Class Name: Herring_Gull                     Error: 29    Accuracy: 3.33\n",
      "Class Name: Ivory_Gull                       Error: 0     Accuracy: 100.0\n",
      "Class Name: Ring_billed_Gull                 Error: 7     Accuracy: 76.67\n",
      "Class Name: Slaty_backed_Gull                Error: 12    Accuracy: 40.0\n",
      "Class Name: Western_Gull                     Error: 3     Accuracy: 90.0\n",
      "Class Name: Anna_Hummingbird                 Error: 9     Accuracy: 70.0\n",
      "Class Name: Ruby_throated_Hummingbird        Error: 9     Accuracy: 70.0\n",
      "Class Name: Rufous_Hummingbird               Error: 3     Accuracy: 90.0\n",
      "Class Name: Green_Violetear                  Error: 0     Accuracy: 100.0\n",
      "Class Name: Long_tailed_Jaeger               Error: 16    Accuracy: 46.67\n",
      "Class Name: Pomarine_Jaeger                  Error: 11    Accuracy: 63.33\n",
      "Class Name: Blue_Jay                         Error: 3     Accuracy: 90.0\n",
      "Class Name: Florida_Jay                      Error: 1     Accuracy: 96.67\n",
      "Class Name: Green_Jay                        Error: 1     Accuracy: 96.3\n",
      "Class Name: Dark_eyed_Junco                  Error: 3     Accuracy: 90.0\n",
      "Class Name: Tropical_Kingbird                Error: 4     Accuracy: 86.67\n",
      "Class Name: Gray_Kingbird                    Error: 0     Accuracy: 100.0\n",
      "Class Name: Belted_Kingfisher                Error: 4     Accuracy: 86.67\n",
      "Class Name: Green_Kingfisher                 Error: 8     Accuracy: 73.33\n",
      "Class Name: Pied_Kingfisher                  Error: 4     Accuracy: 86.67\n",
      "Class Name: Ringed_Kingfisher                Error: 3     Accuracy: 90.0\n",
      "Class Name: White_breasted_Kingfisher        Error: 2     Accuracy: 93.33\n",
      "Class Name: Red_legged_Kittiwake             Error: 3     Accuracy: 86.96\n",
      "Class Name: Horned_Lark                      Error: 3     Accuracy: 90.0\n",
      "Class Name: Pacific_Loon                     Error: 5     Accuracy: 83.33\n",
      "Class Name: Mallard                          Error: 3     Accuracy: 89.66\n",
      "Class Name: Western_Meadowlark               Error: 1     Accuracy: 96.67\n",
      "Class Name: Hooded_Merganser                 Error: 6     Accuracy: 80.0\n",
      "Class Name: Red_breasted_Merganser           Error: 3     Accuracy: 90.0\n",
      "Class Name: Mockingbird                      Error: 7     Accuracy: 76.67\n",
      "Class Name: Nighthawk                        Error: 3     Accuracy: 90.0\n",
      "Class Name: Clark_Nutcracker                 Error: 0     Accuracy: 100.0\n",
      "Class Name: White_breasted_Nuthatch          Error: 1     Accuracy: 96.67\n",
      "Class Name: Baltimore_Oriole                 Error: 6     Accuracy: 80.0\n",
      "Class Name: Hooded_Oriole                    Error: 8     Accuracy: 73.33\n",
      "Class Name: Orchard_Oriole                   Error: 7     Accuracy: 75.86\n",
      "Class Name: Scott_Oriole                     Error: 7     Accuracy: 76.67\n",
      "Class Name: Ovenbird                         Error: 9     Accuracy: 70.0\n",
      "Class Name: Brown_Pelican                    Error: 0     Accuracy: 100.0\n",
      "Class Name: White_Pelican                    Error: 0     Accuracy: 100.0\n",
      "Class Name: Western_Wood_Pewee               Error: 28    Accuracy: 6.67\n",
      "Class Name: Sayornis                         Error: 1     Accuracy: 96.67\n",
      "Class Name: American_Pipit                   Error: 6     Accuracy: 80.0\n",
      "Class Name: Whip_poor_Will                   Error: 3     Accuracy: 84.21\n",
      "Class Name: Horned_Puffin                    Error: 2     Accuracy: 93.33\n",
      "Class Name: Common_Raven                     Error: 12    Accuracy: 60.0\n",
      "Class Name: White_necked_Raven               Error: 5     Accuracy: 82.76\n",
      "Class Name: American_Redstart                Error: 3     Accuracy: 90.0\n",
      "Class Name: Geococcyx                        Error: 0     Accuracy: 100.0\n",
      "Class Name: Loggerhead_Shrike                Error: 7     Accuracy: 76.67\n",
      "Class Name: Great_Grey_Shrike                Error: 12    Accuracy: 60.0\n",
      "Class Name: Baird_Sparrow                    Error: 7     Accuracy: 65.0\n",
      "Class Name: Black_throated_Sparrow           Error: 2     Accuracy: 93.33\n",
      "Class Name: Brewer_Sparrow                   Error: 7     Accuracy: 75.86\n",
      "Class Name: Chipping_Sparrow                 Error: 14    Accuracy: 53.33\n",
      "Class Name: Clay_colored_Sparrow             Error: 11    Accuracy: 62.07\n",
      "Class Name: House_Sparrow                    Error: 10    Accuracy: 66.67\n",
      "Class Name: Field_Sparrow                    Error: 8     Accuracy: 72.41\n",
      "Class Name: Fox_Sparrow                      Error: 6     Accuracy: 80.0\n",
      "Class Name: Grasshopper_Sparrow              Error: 6     Accuracy: 80.0\n",
      "Class Name: Harris_Sparrow                   Error: 2     Accuracy: 93.33\n",
      "Class Name: Henslow_Sparrow                  Error: 8     Accuracy: 73.33\n",
      "Class Name: Le_Conte_Sparrow                 Error: 6     Accuracy: 79.31\n",
      "Class Name: Lincoln_Sparrow                  Error: 2     Accuracy: 93.1\n",
      "Class Name: Nelson_Sharp_tailed_Sparrow      Error: 10    Accuracy: 66.67\n",
      "Class Name: Savannah_Sparrow                 Error: 9     Accuracy: 70.0\n",
      "Class Name: Seaside_Sparrow                  Error: 4     Accuracy: 86.67\n",
      "Class Name: Song_Sparrow                     Error: 10    Accuracy: 66.67\n",
      "Class Name: Tree_Sparrow                     Error: 12    Accuracy: 60.0\n",
      "Class Name: Vesper_Sparrow                   Error: 20    Accuracy: 33.33\n",
      "Class Name: White_crowned_Sparrow            Error: 2     Accuracy: 93.33\n",
      "Class Name: White_throated_Sparrow           Error: 2     Accuracy: 93.33\n",
      "Class Name: Cape_Glossy_Starling             Error: 1     Accuracy: 96.67\n",
      "Class Name: Bank_Swallow                     Error: 13    Accuracy: 56.67\n",
      "Class Name: Barn_Swallow                     Error: 6     Accuracy: 80.0\n",
      "Class Name: Cliff_Swallow                    Error: 8     Accuracy: 73.33\n",
      "Class Name: Tree_Swallow                     Error: 3     Accuracy: 90.0\n",
      "Class Name: Scarlet_Tanager                  Error: 1     Accuracy: 96.67\n",
      "Class Name: Summer_Tanager                   Error: 1     Accuracy: 96.67\n",
      "Class Name: Artic_Tern                       Error: 9     Accuracy: 68.97\n",
      "Class Name: Black_Tern                       Error: 6     Accuracy: 80.0\n",
      "Class Name: Caspian_Tern                     Error: 8     Accuracy: 73.33\n",
      "Class Name: Common_Tern                      Error: 13    Accuracy: 56.67\n",
      "Class Name: Elegant_Tern                     Error: 13    Accuracy: 56.67\n",
      "Class Name: Forsters_Tern                    Error: 24    Accuracy: 20.0\n",
      "Class Name: Least_Tern                       Error: 6     Accuracy: 80.0\n",
      "Class Name: Green_tailed_Towhee              Error: 4     Accuracy: 86.67\n",
      "Class Name: Brown_Thrasher                   Error: 0     Accuracy: 100.0\n",
      "Class Name: Sage_Thrasher                    Error: 7     Accuracy: 76.67\n",
      "Class Name: Black_capped_Vireo               Error: 0     Accuracy: 100.0\n",
      "Class Name: Blue_headed_Vireo                Error: 12    Accuracy: 60.0\n",
      "Class Name: Philadelphia_Vireo               Error: 7     Accuracy: 75.86\n",
      "Class Name: Red_eyed_Vireo                   Error: 10    Accuracy: 66.67\n",
      "Class Name: Warbling_Vireo                   Error: 6     Accuracy: 80.0\n",
      "Class Name: White_eyed_Vireo                 Error: 7     Accuracy: 76.67\n",
      "Class Name: Yellow_throated_Vireo            Error: 10    Accuracy: 65.52\n",
      "Class Name: Bay_breasted_Warbler             Error: 1     Accuracy: 96.67\n",
      "Class Name: Black_and_white_Warbler          Error: 1     Accuracy: 96.67\n",
      "Class Name: Black_throated_Blue_Warbler      Error: 2     Accuracy: 93.1\n",
      "Class Name: Blue_winged_Warbler              Error: 2     Accuracy: 93.33\n",
      "Class Name: Canada_Warbler                   Error: 4     Accuracy: 86.67\n",
      "Class Name: Cape_May_Warbler                 Error: 1     Accuracy: 96.67\n",
      "Class Name: Cerulean_Warbler                 Error: 2     Accuracy: 93.33\n",
      "Class Name: Chestnut_sided_Warbler           Error: 7     Accuracy: 76.67\n",
      "Class Name: Golden_winged_Warbler            Error: 2     Accuracy: 93.1\n",
      "Class Name: Hooded_Warbler                   Error: 16    Accuracy: 46.67\n",
      "Class Name: Kentucky_Warbler                 Error: 3     Accuracy: 89.66\n",
      "Class Name: Magnolia_Warbler                 Error: 3     Accuracy: 89.66\n",
      "Class Name: Mourning_Warbler                 Error: 2     Accuracy: 93.33\n",
      "Class Name: Myrtle_Warbler                   Error: 6     Accuracy: 80.0\n",
      "Class Name: Nashville_Warbler                Error: 4     Accuracy: 86.67\n",
      "Class Name: Orange_crowned_Warbler           Error: 14    Accuracy: 53.33\n",
      "Class Name: Palm_Warbler                     Error: 5     Accuracy: 83.33\n",
      "Class Name: Pine_Warbler                     Error: 8     Accuracy: 73.33\n",
      "Class Name: Prairie_Warbler                  Error: 3     Accuracy: 90.0\n",
      "Class Name: Prothonotary_Warbler             Error: 3     Accuracy: 90.0\n",
      "Class Name: Swainson_Warbler                 Error: 4     Accuracy: 84.62\n",
      "Class Name: Tennessee_Warbler                Error: 15    Accuracy: 48.28\n",
      "Class Name: Wilson_Warbler                   Error: 6     Accuracy: 80.0\n",
      "Class Name: Worm_eating_Warbler              Error: 4     Accuracy: 86.21\n",
      "Class Name: Yellow_Warbler                   Error: 4     Accuracy: 86.67\n",
      "Class Name: Northern_Waterthrush             Error: 7     Accuracy: 76.67\n",
      "Class Name: Louisiana_Waterthrush            Error: 7     Accuracy: 76.67\n",
      "Class Name: Bohemian_Waxwing                 Error: 1     Accuracy: 96.67\n",
      "Class Name: Cedar_Waxwing                    Error: 2     Accuracy: 93.33\n",
      "Class Name: American_Three_toed_Woodpecker   Error: 1     Accuracy: 95.0\n",
      "Class Name: Pileated_Woodpecker              Error: 0     Accuracy: 100.0\n",
      "Class Name: Red_bellied_Woodpecker           Error: 0     Accuracy: 100.0\n",
      "Class Name: Red_cockaded_Woodpecker          Error: 5     Accuracy: 82.76\n",
      "Class Name: Red_headed_Woodpecker            Error: 3     Accuracy: 90.0\n",
      "Class Name: Downy_Woodpecker                 Error: 5     Accuracy: 83.33\n",
      "Class Name: Bewick_Wren                      Error: 2     Accuracy: 93.33\n",
      "Class Name: Cactus_Wren                      Error: 3     Accuracy: 90.0\n",
      "Class Name: Carolina_Wren                    Error: 5     Accuracy: 83.33\n",
      "Class Name: House_Wren                       Error: 12    Accuracy: 60.0\n",
      "Class Name: Marsh_Wren                       Error: 11    Accuracy: 63.33\n",
      "Class Name: Rock_Wren                        Error: 3     Accuracy: 90.0\n",
      "Class Name: Winter_Wren                      Error: 3     Accuracy: 90.0\n",
      "Class Name: Common_Yellowthroat              Error: 5     Accuracy: 83.33\n"
     ]
    }
   ],
   "source": [
    "# print class wise error info\n",
    "for i, cls_name in enumerate(class_names):\n",
    "    classwise_error = np.sum(err_mat[i])\n",
    "    classwise_acc = round(((test_samples_per_class[str(i)] - classwise_error) / test_samples_per_class[str(i)]) * 100.0, 2)\n",
    "    print(\"Class Name: {}   Error: {}   Accuracy: {}\".format(cls_name.ljust(30),str(classwise_error).ljust(3),classwise_acc))"
   ]
  },
  {
   "cell_type": "markdown",
   "metadata": {},
   "source": [
    "### Identifying the confounding (visually similar, but semantically different) classes "
   ]
  },
  {
   "cell_type": "code",
   "execution_count": 35,
   "metadata": {},
   "outputs": [
    {
     "name": "stdout",
     "output_type": "stream",
     "text": [
      "\n",
      " Histrogram of error matrix \n",
      "\n",
      "For error value 1, the number of such occurences is 445.\n",
      "For error value 2, the number of such occurences is 85.\n",
      "For error value 3, the number of such occurences is 45.\n",
      "For error value 4, the number of such occurences is 20.\n",
      "For error value 5, the number of such occurences is 6.\n",
      "For error value 6, the number of such occurences is 10.\n",
      "For error value 7, the number of such occurences is 5.\n",
      "For error value 8, the number of such occurences is 5.\n",
      "For error value 9, the number of such occurences is 3.\n",
      "For error value 10, the number of such occurences is 3.\n",
      "For error value 11, the number of such occurences is 2.\n",
      "For error value 12, the number of such occurences is 2.\n",
      "For error value 13, the number of such occurences is 1.\n",
      "For error value 14, the number of such occurences is 1.\n",
      "For error value 15, the number of such occurences is 1.\n",
      "For error value 16, the number of such occurences is 1.\n"
     ]
    }
   ],
   "source": [
    "print(\"\\n Histrogram of error matrix \\n\")\n",
    "\n",
    "for i in range(1, np.max(err_mat)+1):\n",
    "    print(\"For error value {}, the number of such occurences is {}.\".format(i,np.count_nonzero(err_mat==i)))"
   ]
  },
  {
   "cell_type": "code",
   "execution_count": 48,
   "metadata": {},
   "outputs": [
    {
     "name": "stdout",
     "output_type": "stream",
     "text": [
      "\n",
      "\t==========================================\n",
      "\n",
      "\n",
      "Class under investigation:  American_Crow\n",
      "American_Crow is misidentified as Fish_Crow for 13 times\n",
      "Is Fish_Crow also being misidentified as American_Crow? The error for such scenario is = 2\n",
      "Total error for American_Crow = 25\n",
      "Total error for Fish_Crow = 14\n",
      "\n",
      "\t==========================================\n",
      "\n",
      "\n",
      "Class under investigation:  Forsters_Tern\n",
      "Forsters_Tern is misidentified as Common_Tern for 14 times\n",
      "Is Common_Tern also being misidentified as Forsters_Tern? The error for such scenario is = 0\n",
      "Total error for Forsters_Tern = 24\n",
      "Total error for Common_Tern = 13\n",
      "\n",
      "\t==========================================\n",
      "\n",
      "\n",
      "Class under investigation:  Pelagic_Cormorant\n",
      "Pelagic_Cormorant is misidentified as Brandt_Cormorant for 15 times\n",
      "Is Brandt_Cormorant also being misidentified as Pelagic_Cormorant? The error for such scenario is = 3\n",
      "Total error for Pelagic_Cormorant = 22\n",
      "Total error for Brandt_Cormorant = 6\n",
      "\n",
      "\t==========================================\n",
      "\n",
      "\n",
      "Class under investigation:  California_Gull\n",
      "California_Gull is misidentified as Western_Gull for 16 times\n",
      "Is Western_Gull also being misidentified as California_Gull? The error for such scenario is = 1\n",
      "Total error for California_Gull = 25\n",
      "Total error for Western_Gull = 3\n"
     ]
    }
   ],
   "source": [
    "\"\"\"\n",
    "choose error values appropriately from the above such that, we achieve good performance boost with minimal intervention effort!\n",
    "\"\"\"\n",
    "error_vales_for_intervention = [13,14,15,16]\n",
    "\n",
    "# Understanding what these error values mean!\n",
    "for val in error_vales_for_intervention:\n",
    "\n",
    "    print(\"\\n\\t==========================================\")\n",
    "    x,y = np.where(err_mat==val)\n",
    "\n",
    "    for a,b in zip(x,y):\n",
    "\n",
    "        print(\"\\n\")\n",
    "        print(\"Class under investigation: \",class_names[a])\n",
    "        print(\"{} is misidentified as {} for {} times\".format(class_names[a],class_names[b],val))\n",
    "\n",
    "        print(\"Is {} also being misidentified as {}? The error for such scenario is = {}\".format(class_names[b],class_names[a],err_mat[b,a]))\n",
    "        # a lower value for the above indicates that the model is biased towards a particular class\n",
    "        # For example,\n",
    "        # most California Gulls are misidentifed as Western Gulls\n",
    "        # but that does not imply that Western Gulls will be misidentifed as California Gulls\n",
    "\n",
    "        print(\"Total error for {} = {}\".format(class_names[a],np.sum(err_mat[a])))\n",
    "        print(\"Total error for {} = {}\".format(class_names[b],np.sum(err_mat[b])))\n"
   ]
  }
 ],
 "metadata": {
  "kernelspec": {
   "display_name": "vlm",
   "language": "python",
   "name": "python3"
  },
  "language_info": {
   "codemirror_mode": {
    "name": "ipython",
    "version": 3
   },
   "file_extension": ".py",
   "mimetype": "text/x-python",
   "name": "python",
   "nbconvert_exporter": "python",
   "pygments_lexer": "ipython3",
   "version": "3.10.12"
  }
 },
 "nbformat": 4,
 "nbformat_minor": 2
}
